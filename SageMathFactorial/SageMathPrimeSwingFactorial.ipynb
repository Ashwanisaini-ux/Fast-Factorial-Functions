{
 "cells": [
  {
   "cell_type": "code",
   "execution_count": null,
   "metadata": {},
   "outputs": [],
   "source": [
    "def PSWfactorial(n):\n",
    "    \"\"\"\n",
    "    Return the factorial of n (using the prime-swing algorithm).\n",
    "    \"\"\"\n",
    "    small_swing = [1, 1, 1, 3, 3, 15, 5, 35, 35, 315, 63, 693, 231, 3003,\n",
    "        429, 6435, 6435, 109395, 12155, 230945, 46189, 969969, 88179,\n",
    "        2028117, 676039, 16900975, 1300075, 35102025, 5014575, 145422675,\n",
    "        9694845, 300540195, 300540195]\n",
    "\n",
    "    def swing(m):\n",
    "        if m < 33: return small_swing[m]\n",
    "\n",
    "        sqrtm = isqrt(m)\n",
    "        factors = prime_range(m//2 + 1, m + 1)\n",
    "        R = prime_range(sqrtm + 1, m//3 + 1)\n",
    "        factors += filter(lambda x: is_odd(m//x), R)\n",
    "\n",
    "        for prime in prime_range(3, sqrtm + 1):\n",
    "            p, q = 1, m\n",
    "            while True:\n",
    "                q //= prime\n",
    "                if q == 0: break\n",
    "                if q & 1 == 1:\n",
    "                    p *= prime\n",
    "            if p > 1: factors.append(p)\n",
    "\n",
    "        return product(factors)\n",
    "\n",
    "    def odd_factorial(n):\n",
    "        if n < 2: return 1\n",
    "        tmp = odd_factorial(n//2)\n",
    "        return tmp^2 * swing(n)\n",
    "\n",
    "    def eval(n):\n",
    "        if n < 0:\n",
    "            raise ValueError('factorial not def. for negative numbers')\n",
    "        if n == 0: return 1\n",
    "        if n < 20: return product(range(2, n + 1))\n",
    "\n",
    "        N, bits = n, n\n",
    "        while N != 0:\n",
    "            bits -= N & 1\n",
    "            N >>= 1\n",
    "\n",
    "        return odd_factorial(n) << bits\n",
    "\n",
    "    return eval(n)"
   ]
  },
  {
   "cell_type": "code",
   "execution_count": null,
   "metadata": {},
   "outputs": [],
   "source": [
    "from __future__ import print_function\n",
    "import time\n",
    "\n",
    "def test():\n",
    "    \"\"\"\n",
    "    Test and benchmark:\n",
    "    \"\"\"\n",
    "    for n in range(1000):\n",
    "        mf = factorial(n)\n",
    "        psw = PSWfactorial(n)\n",
    "        if mf != psw: print(\"Error at\", n)\n",
    "    print(\"Tests passed!\")            \n",
    "\n",
    "    n = 1000; elapsed_last = 0\n",
    "    while n <= 100000000:\n",
    "        print(\"Benchmark n = {:10}, \".format(n), end=''); sys.stdout.flush()\n",
    "        start = time.time()\n",
    "        PSWfactorial(n)\n",
    "        end = time.time()\n",
    "        elapsed = end - start\n",
    "        q = elapsed/elapsed_last if elapsed_last > 0 else 0\n",
    "        print(\"elapsed={:4.3f}s, quot={:2.1f}\".format(elapsed, q))\n",
    "        elapsed_last = elapsed\n",
    "        n *= 10\n",
    "    print(\"Done!\")\n",
    "\n",
    "test()"
   ]
  },
  {
   "cell_type": "markdown",
   "metadata": {},
   "source": [
    "Tests passed!\n",
    "Benchmark n =      1000, elapsed=   0.001s, quot=  0.0\n",
    "Benchmark n =     10000, elapsed=   0.007s, quot=  6.4\n",
    "Benchmark n =    100000, elapsed=   0.104s, quot= 15.1\n",
    "Benchmark n =   1000000, elapsed=   1.118s, quot= 10.7\n",
    "Benchmark n =  10000000, elapsed=  14.997s, quot= 13.4\n",
    "Benchmark n = 100000000, elapsed= 181.411s, quot= 12.1"
   ]
  }
 ],
 "metadata": {
  "kernelspec": {
   "display_name": "SageMath 8.4",
   "language": "",
   "name": "sagemath"
  },
  "language_info": {
   "codemirror_mode": {
    "name": "ipython",
    "version": 2
   },
   "file_extension": ".py",
   "mimetype": "text/x-python",
   "name": "python",
   "nbconvert_exporter": "python",
   "pygments_lexer": "ipython2",
   "version": "2.7.15"
  }
 },
 "nbformat": 4,
 "nbformat_minor": 2
}
